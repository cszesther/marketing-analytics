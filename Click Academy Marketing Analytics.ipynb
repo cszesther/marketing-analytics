{
 "cells": [
  {
   "cell_type": "markdown",
   "metadata": {},
   "source": [
    "### In this notebook, we will be analyzing visitors data collected on an ecommerce site"
   ]
  },
  {
   "cell_type": "code",
   "execution_count": 1,
   "metadata": {},
   "outputs": [
    {
     "name": "stderr",
     "output_type": "stream",
     "text": [
      "Warning message:\n",
      "\"package 'tidyverse' was built under R version 3.6.3\"-- Attaching packages --------------------------------------- tidyverse 1.3.0 --\n",
      "v ggplot2 3.3.2     v purrr   0.3.4\n",
      "v tibble  3.0.3     v dplyr   1.0.0\n",
      "v tidyr   1.1.0     v stringr 1.4.0\n",
      "v readr   1.3.1     v forcats 0.5.0\n",
      "Warning message:\n",
      "\"package 'ggplot2' was built under R version 3.6.3\"Warning message:\n",
      "\"package 'tibble' was built under R version 3.6.3\"Warning message:\n",
      "\"package 'tidyr' was built under R version 3.6.3\"Warning message:\n",
      "\"package 'readr' was built under R version 3.6.3\"Warning message:\n",
      "\"package 'purrr' was built under R version 3.6.3\"Warning message:\n",
      "\"package 'dplyr' was built under R version 3.6.3\"Warning message:\n",
      "\"package 'stringr' was built under R version 3.6.3\"Warning message:\n",
      "\"package 'forcats' was built under R version 3.6.3\"-- Conflicts ------------------------------------------ tidyverse_conflicts() --\n",
      "x dplyr::filter() masks stats::filter()\n",
      "x dplyr::lag()    masks stats::lag()\n",
      "Warning message:\n",
      "\"package 'lubridate' was built under R version 3.6.3\"\n",
      "Attaching package: 'lubridate'\n",
      "\n",
      "The following objects are masked from 'package:base':\n",
      "\n",
      "    date, intersect, setdiff, union\n",
      "\n",
      "Warning message:\n",
      "\"package 'scales' was built under R version 3.6.3\"\n",
      "Attaching package: 'scales'\n",
      "\n",
      "The following object is masked from 'package:purrr':\n",
      "\n",
      "    discard\n",
      "\n",
      "The following object is masked from 'package:readr':\n",
      "\n",
      "    col_factor\n",
      "\n"
     ]
    },
    {
     "data": {
      "text/html": [
       "<table>\n",
       "<thead><tr><th scope=col>dateTime</th><th scope=col>country</th><th scope=col>profile</th><th scope=col>age</th><th scope=col>gender</th><th scope=col>referral</th><th scope=col>pageviews</th><th scope=col>purchased</th><th scope=col>purchaseAmount</th></tr></thead>\n",
       "<tbody>\n",
       "\t<tr><td>2014-08-29 03:34    </td><td>Australia           </td><td>Friend/family friend</td><td>25-34               </td><td>Female              </td><td>Unbranded Search    </td><td> 9                  </td><td>0                   </td><td>0                   </td></tr>\n",
       "\t<tr><td>2014-09-10 09:03    </td><td>United States       </td><td>Friend/family friend</td><td>25-34               </td><td>Female              </td><td>Unbranded Search    </td><td> 7                  </td><td>0                   </td><td>0                   </td></tr>\n",
       "\t<tr><td>2014-08-13 22:43    </td><td>United States       </td><td>Friend/family friend</td><td>35-44               </td><td>Female              </td><td>Social              </td><td> 3                  </td><td>0                   </td><td>0                   </td></tr>\n",
       "\t<tr><td>2014-09-05 12:37    </td><td>United States       </td><td>Friend/family friend</td><td>35-44               </td><td>Female              </td><td>Unbranded Search    </td><td> 7                  </td><td>0                   </td><td>0                   </td></tr>\n",
       "\t<tr><td>2014-08-20 18:29    </td><td>United States       </td><td>Friend/family friend</td><td>45-54               </td><td>Female              </td><td>Unbranded Search    </td><td>11                  </td><td>0                   </td><td>0                   </td></tr>\n",
       "\t<tr><td>2014-08-04 02:17    </td><td>United States       </td><td>Friend/family friend</td><td>55-64               </td><td>Female              </td><td>Unbranded Search    </td><td>11                  </td><td>0                   </td><td>0                   </td></tr>\n",
       "</tbody>\n",
       "</table>\n"
      ],
      "text/latex": [
       "\\begin{tabular}{r|lllllllll}\n",
       " dateTime & country & profile & age & gender & referral & pageviews & purchased & purchaseAmount\\\\\n",
       "\\hline\n",
       "\t 2014-08-29 03:34     & Australia            & Friend/family friend & 25-34                & Female               & Unbranded Search     &  9                   & 0                    & 0                   \\\\\n",
       "\t 2014-09-10 09:03     & United States        & Friend/family friend & 25-34                & Female               & Unbranded Search     &  7                   & 0                    & 0                   \\\\\n",
       "\t 2014-08-13 22:43     & United States        & Friend/family friend & 35-44                & Female               & Social               &  3                   & 0                    & 0                   \\\\\n",
       "\t 2014-09-05 12:37     & United States        & Friend/family friend & 35-44                & Female               & Unbranded Search     &  7                   & 0                    & 0                   \\\\\n",
       "\t 2014-08-20 18:29     & United States        & Friend/family friend & 45-54                & Female               & Unbranded Search     & 11                   & 0                    & 0                   \\\\\n",
       "\t 2014-08-04 02:17     & United States        & Friend/family friend & 55-64                & Female               & Unbranded Search     & 11                   & 0                    & 0                   \\\\\n",
       "\\end{tabular}\n"
      ],
      "text/markdown": [
       "\n",
       "| dateTime | country | profile | age | gender | referral | pageviews | purchased | purchaseAmount |\n",
       "|---|---|---|---|---|---|---|---|---|\n",
       "| 2014-08-29 03:34     | Australia            | Friend/family friend | 25-34                | Female               | Unbranded Search     |  9                   | 0                    | 0                    |\n",
       "| 2014-09-10 09:03     | United States        | Friend/family friend | 25-34                | Female               | Unbranded Search     |  7                   | 0                    | 0                    |\n",
       "| 2014-08-13 22:43     | United States        | Friend/family friend | 35-44                | Female               | Social               |  3                   | 0                    | 0                    |\n",
       "| 2014-09-05 12:37     | United States        | Friend/family friend | 35-44                | Female               | Unbranded Search     |  7                   | 0                    | 0                    |\n",
       "| 2014-08-20 18:29     | United States        | Friend/family friend | 45-54                | Female               | Unbranded Search     | 11                   | 0                    | 0                    |\n",
       "| 2014-08-04 02:17     | United States        | Friend/family friend | 55-64                | Female               | Unbranded Search     | 11                   | 0                    | 0                    |\n",
       "\n"
      ],
      "text/plain": [
       "  dateTime         country       profile              age   gender\n",
       "1 2014-08-29 03:34 Australia     Friend/family friend 25-34 Female\n",
       "2 2014-09-10 09:03 United States Friend/family friend 25-34 Female\n",
       "3 2014-08-13 22:43 United States Friend/family friend 35-44 Female\n",
       "4 2014-09-05 12:37 United States Friend/family friend 35-44 Female\n",
       "5 2014-08-20 18:29 United States Friend/family friend 45-54 Female\n",
       "6 2014-08-04 02:17 United States Friend/family friend 55-64 Female\n",
       "  referral         pageviews purchased purchaseAmount\n",
       "1 Unbranded Search  9        0         0             \n",
       "2 Unbranded Search  7        0         0             \n",
       "3 Social            3        0         0             \n",
       "4 Unbranded Search  7        0         0             \n",
       "5 Unbranded Search 11        0         0             \n",
       "6 Unbranded Search 11        0         0             "
      ]
     },
     "metadata": {},
     "output_type": "display_data"
    }
   ],
   "source": [
    "# import libraries \n",
    "library(tidyverse)\n",
    "library(lubridate)\n",
    "library(scales)\n",
    "\n",
    "# import dataset\n",
    "df <- read.csv('health-ecommerce-website.csv')\n",
    "df %>% head()"
   ]
  },
  {
   "cell_type": "code",
   "execution_count": 2,
   "metadata": {},
   "outputs": [
    {
     "data": {
      "text/html": [
       "<dl class=dl-horizontal>\n",
       "\t<dt>dateTime</dt>\n",
       "\t\t<dd>'integer'</dd>\n",
       "\t<dt>country</dt>\n",
       "\t\t<dd>'integer'</dd>\n",
       "\t<dt>profile</dt>\n",
       "\t\t<dd>'integer'</dd>\n",
       "\t<dt>age</dt>\n",
       "\t\t<dd>'integer'</dd>\n",
       "\t<dt>gender</dt>\n",
       "\t\t<dd>'integer'</dd>\n",
       "\t<dt>referral</dt>\n",
       "\t\t<dd>'integer'</dd>\n",
       "\t<dt>pageviews</dt>\n",
       "\t\t<dd>'integer'</dd>\n",
       "\t<dt>purchased</dt>\n",
       "\t\t<dd>'integer'</dd>\n",
       "\t<dt>purchaseAmount</dt>\n",
       "\t\t<dd>'double'</dd>\n",
       "</dl>\n"
      ],
      "text/latex": [
       "\\begin{description*}\n",
       "\\item[dateTime] 'integer'\n",
       "\\item[country] 'integer'\n",
       "\\item[profile] 'integer'\n",
       "\\item[age] 'integer'\n",
       "\\item[gender] 'integer'\n",
       "\\item[referral] 'integer'\n",
       "\\item[pageviews] 'integer'\n",
       "\\item[purchased] 'integer'\n",
       "\\item[purchaseAmount] 'double'\n",
       "\\end{description*}\n"
      ],
      "text/markdown": [
       "dateTime\n",
       ":   'integer'country\n",
       ":   'integer'profile\n",
       ":   'integer'age\n",
       ":   'integer'gender\n",
       ":   'integer'referral\n",
       ":   'integer'pageviews\n",
       ":   'integer'purchased\n",
       ":   'integer'purchaseAmount\n",
       ":   'double'\n",
       "\n"
      ],
      "text/plain": [
       "      dateTime        country        profile            age         gender \n",
       "     \"integer\"      \"integer\"      \"integer\"      \"integer\"      \"integer\" \n",
       "      referral      pageviews      purchased purchaseAmount \n",
       "     \"integer\"      \"integer\"      \"integer\"       \"double\" "
      ]
     },
     "metadata": {},
     "output_type": "display_data"
    },
    {
     "data": {
      "text/html": [
       "<dl class=dl-horizontal>\n",
       "\t<dt>dateTime</dt>\n",
       "\t\t<dd>'factor'</dd>\n",
       "\t<dt>country</dt>\n",
       "\t\t<dd>'factor'</dd>\n",
       "\t<dt>profile</dt>\n",
       "\t\t<dd>'factor'</dd>\n",
       "\t<dt>age</dt>\n",
       "\t\t<dd>'factor'</dd>\n",
       "\t<dt>gender</dt>\n",
       "\t\t<dd>'factor'</dd>\n",
       "\t<dt>referral</dt>\n",
       "\t\t<dd>'factor'</dd>\n",
       "\t<dt>pageviews</dt>\n",
       "\t\t<dd>'integer'</dd>\n",
       "\t<dt>purchased</dt>\n",
       "\t\t<dd>'integer'</dd>\n",
       "\t<dt>purchaseAmount</dt>\n",
       "\t\t<dd>'numeric'</dd>\n",
       "</dl>\n"
      ],
      "text/latex": [
       "\\begin{description*}\n",
       "\\item[dateTime] 'factor'\n",
       "\\item[country] 'factor'\n",
       "\\item[profile] 'factor'\n",
       "\\item[age] 'factor'\n",
       "\\item[gender] 'factor'\n",
       "\\item[referral] 'factor'\n",
       "\\item[pageviews] 'integer'\n",
       "\\item[purchased] 'integer'\n",
       "\\item[purchaseAmount] 'numeric'\n",
       "\\end{description*}\n"
      ],
      "text/markdown": [
       "dateTime\n",
       ":   'factor'country\n",
       ":   'factor'profile\n",
       ":   'factor'age\n",
       ":   'factor'gender\n",
       ":   'factor'referral\n",
       ":   'factor'pageviews\n",
       ":   'integer'purchased\n",
       ":   'integer'purchaseAmount\n",
       ":   'numeric'\n",
       "\n"
      ],
      "text/plain": [
       "      dateTime        country        profile            age         gender \n",
       "      \"factor\"       \"factor\"       \"factor\"       \"factor\"       \"factor\" \n",
       "      referral      pageviews      purchased purchaseAmount \n",
       "      \"factor\"      \"integer\"      \"integer\"      \"numeric\" "
      ]
     },
     "metadata": {},
     "output_type": "display_data"
    }
   ],
   "source": [
    "# check data type\n",
    "sapply(df,typeof)\n",
    "sapply(df,class)"
   ]
  },
  {
   "cell_type": "code",
   "execution_count": 3,
   "metadata": {},
   "outputs": [],
   "source": [
    "# change col data types\n",
    "# change dateTime to datetime data type\n",
    "# change country, profile, age, gender, referral to character data type\n",
    "# df$country <- as.character(as.numeric(df$country))\n",
    "read_csv(\"health-ecommerce-website.csv\",\n",
    "         col_types = cols(dateTime = col_datetime()))%>%as_tibble->df"
   ]
  },
  {
   "cell_type": "code",
   "execution_count": 4,
   "metadata": {},
   "outputs": [
    {
     "data": {
      "text/html": [
       "<table>\n",
       "<thead><tr><th scope=col>dateTime</th><th scope=col>country</th><th scope=col>profile</th><th scope=col>age</th><th scope=col>gender</th><th scope=col>referral</th><th scope=col>pageviews</th><th scope=col>purchased</th><th scope=col>purchaseAmount</th></tr></thead>\n",
       "<tbody>\n",
       "\t<tr><td>2014-08-29 03:34:00 </td><td>Australia           </td><td>Friend/family friend</td><td>25-34               </td><td>Female              </td><td>Unbranded Search    </td><td> 9                  </td><td>0                   </td><td>0                   </td></tr>\n",
       "\t<tr><td>2014-09-10 09:03:00 </td><td>United States       </td><td>Friend/family friend</td><td>25-34               </td><td>Female              </td><td>Unbranded Search    </td><td> 7                  </td><td>0                   </td><td>0                   </td></tr>\n",
       "\t<tr><td>2014-08-13 22:43:00 </td><td>United States       </td><td>Friend/family friend</td><td>35-44               </td><td>Female              </td><td>Social              </td><td> 3                  </td><td>0                   </td><td>0                   </td></tr>\n",
       "\t<tr><td>2014-09-05 12:37:00 </td><td>United States       </td><td>Friend/family friend</td><td>35-44               </td><td>Female              </td><td>Unbranded Search    </td><td> 7                  </td><td>0                   </td><td>0                   </td></tr>\n",
       "\t<tr><td>2014-08-20 18:29:00 </td><td>United States       </td><td>Friend/family friend</td><td>45-54               </td><td>Female              </td><td>Unbranded Search    </td><td>11                  </td><td>0                   </td><td>0                   </td></tr>\n",
       "\t<tr><td>2014-08-04 02:17:00 </td><td>United States       </td><td>Friend/family friend</td><td>55-64               </td><td>Female              </td><td>Unbranded Search    </td><td>11                  </td><td>0                   </td><td>0                   </td></tr>\n",
       "</tbody>\n",
       "</table>\n"
      ],
      "text/latex": [
       "\\begin{tabular}{r|lllllllll}\n",
       " dateTime & country & profile & age & gender & referral & pageviews & purchased & purchaseAmount\\\\\n",
       "\\hline\n",
       "\t 2014-08-29 03:34:00  & Australia            & Friend/family friend & 25-34                & Female               & Unbranded Search     &  9                   & 0                    & 0                   \\\\\n",
       "\t 2014-09-10 09:03:00  & United States        & Friend/family friend & 25-34                & Female               & Unbranded Search     &  7                   & 0                    & 0                   \\\\\n",
       "\t 2014-08-13 22:43:00  & United States        & Friend/family friend & 35-44                & Female               & Social               &  3                   & 0                    & 0                   \\\\\n",
       "\t 2014-09-05 12:37:00  & United States        & Friend/family friend & 35-44                & Female               & Unbranded Search     &  7                   & 0                    & 0                   \\\\\n",
       "\t 2014-08-20 18:29:00  & United States        & Friend/family friend & 45-54                & Female               & Unbranded Search     & 11                   & 0                    & 0                   \\\\\n",
       "\t 2014-08-04 02:17:00  & United States        & Friend/family friend & 55-64                & Female               & Unbranded Search     & 11                   & 0                    & 0                   \\\\\n",
       "\\end{tabular}\n"
      ],
      "text/markdown": [
       "\n",
       "| dateTime | country | profile | age | gender | referral | pageviews | purchased | purchaseAmount |\n",
       "|---|---|---|---|---|---|---|---|---|\n",
       "| 2014-08-29 03:34:00  | Australia            | Friend/family friend | 25-34                | Female               | Unbranded Search     |  9                   | 0                    | 0                    |\n",
       "| 2014-09-10 09:03:00  | United States        | Friend/family friend | 25-34                | Female               | Unbranded Search     |  7                   | 0                    | 0                    |\n",
       "| 2014-08-13 22:43:00  | United States        | Friend/family friend | 35-44                | Female               | Social               |  3                   | 0                    | 0                    |\n",
       "| 2014-09-05 12:37:00  | United States        | Friend/family friend | 35-44                | Female               | Unbranded Search     |  7                   | 0                    | 0                    |\n",
       "| 2014-08-20 18:29:00  | United States        | Friend/family friend | 45-54                | Female               | Unbranded Search     | 11                   | 0                    | 0                    |\n",
       "| 2014-08-04 02:17:00  | United States        | Friend/family friend | 55-64                | Female               | Unbranded Search     | 11                   | 0                    | 0                    |\n",
       "\n"
      ],
      "text/plain": [
       "  dateTime            country       profile              age   gender\n",
       "1 2014-08-29 03:34:00 Australia     Friend/family friend 25-34 Female\n",
       "2 2014-09-10 09:03:00 United States Friend/family friend 25-34 Female\n",
       "3 2014-08-13 22:43:00 United States Friend/family friend 35-44 Female\n",
       "4 2014-09-05 12:37:00 United States Friend/family friend 35-44 Female\n",
       "5 2014-08-20 18:29:00 United States Friend/family friend 45-54 Female\n",
       "6 2014-08-04 02:17:00 United States Friend/family friend 55-64 Female\n",
       "  referral         pageviews purchased purchaseAmount\n",
       "1 Unbranded Search  9        0         0             \n",
       "2 Unbranded Search  7        0         0             \n",
       "3 Social            3        0         0             \n",
       "4 Unbranded Search  7        0         0             \n",
       "5 Unbranded Search 11        0         0             \n",
       "6 Unbranded Search 11        0         0             "
      ]
     },
     "metadata": {},
     "output_type": "display_data"
    }
   ],
   "source": [
    "df %>% head"
   ]
  },
  {
   "cell_type": "code",
   "execution_count": 5,
   "metadata": {},
   "outputs": [
    {
     "data": {
      "text/html": [
       "<dl>\n",
       "\t<dt>$dateTime</dt>\n",
       "\t\t<dd><ol class=list-inline>\n",
       "\t<li>'POSIXct'</li>\n",
       "\t<li>'POSIXt'</li>\n",
       "</ol>\n",
       "</dd>\n",
       "\t<dt>$country</dt>\n",
       "\t\t<dd>'character'</dd>\n",
       "\t<dt>$profile</dt>\n",
       "\t\t<dd>'character'</dd>\n",
       "\t<dt>$age</dt>\n",
       "\t\t<dd>'character'</dd>\n",
       "\t<dt>$gender</dt>\n",
       "\t\t<dd>'character'</dd>\n",
       "\t<dt>$referral</dt>\n",
       "\t\t<dd>'character'</dd>\n",
       "\t<dt>$pageviews</dt>\n",
       "\t\t<dd>'numeric'</dd>\n",
       "\t<dt>$purchased</dt>\n",
       "\t\t<dd>'numeric'</dd>\n",
       "\t<dt>$purchaseAmount</dt>\n",
       "\t\t<dd>'numeric'</dd>\n",
       "</dl>\n"
      ],
      "text/latex": [
       "\\begin{description}\n",
       "\\item[\\$dateTime] \\begin{enumerate*}\n",
       "\\item 'POSIXct'\n",
       "\\item 'POSIXt'\n",
       "\\end{enumerate*}\n",
       "\n",
       "\\item[\\$country] 'character'\n",
       "\\item[\\$profile] 'character'\n",
       "\\item[\\$age] 'character'\n",
       "\\item[\\$gender] 'character'\n",
       "\\item[\\$referral] 'character'\n",
       "\\item[\\$pageviews] 'numeric'\n",
       "\\item[\\$purchased] 'numeric'\n",
       "\\item[\\$purchaseAmount] 'numeric'\n",
       "\\end{description}\n"
      ],
      "text/markdown": [
       "$dateTime\n",
       ":   1. 'POSIXct'\n",
       "2. 'POSIXt'\n",
       "\n",
       "\n",
       "\n",
       "$country\n",
       ":   'character'\n",
       "$profile\n",
       ":   'character'\n",
       "$age\n",
       ":   'character'\n",
       "$gender\n",
       ":   'character'\n",
       "$referral\n",
       ":   'character'\n",
       "$pageviews\n",
       ":   'numeric'\n",
       "$purchased\n",
       ":   'numeric'\n",
       "$purchaseAmount\n",
       ":   'numeric'\n",
       "\n",
       "\n"
      ],
      "text/plain": [
       "$dateTime\n",
       "[1] \"POSIXct\" \"POSIXt\" \n",
       "\n",
       "$country\n",
       "[1] \"character\"\n",
       "\n",
       "$profile\n",
       "[1] \"character\"\n",
       "\n",
       "$age\n",
       "[1] \"character\"\n",
       "\n",
       "$gender\n",
       "[1] \"character\"\n",
       "\n",
       "$referral\n",
       "[1] \"character\"\n",
       "\n",
       "$pageviews\n",
       "[1] \"numeric\"\n",
       "\n",
       "$purchased\n",
       "[1] \"numeric\"\n",
       "\n",
       "$purchaseAmount\n",
       "[1] \"numeric\"\n"
      ]
     },
     "metadata": {},
     "output_type": "display_data"
    }
   ],
   "source": [
    "# check datatype\n",
    "sapply(df,class)"
   ]
  },
  {
   "cell_type": "code",
   "execution_count": 6,
   "metadata": {},
   "outputs": [
    {
     "name": "stdout",
     "output_type": "stream",
     "text": [
      "Rows: 1,592\n",
      "Columns: 9\n",
      "$ dateTime       <dttm> 2014-08-29 03:34:00, 2014-09-10 09:03:00, 2014-08-1...\n",
      "$ country        <chr> \"Australia\", \"United States\", \"United States\", \"Unit...\n",
      "$ profile        <chr> \"Friend/family friend\", \"Friend/family friend\", \"Fri...\n",
      "$ age            <chr> \"25-34\", \"25-34\", \"35-44\", \"35-44\", \"45-54\", \"55-64\"...\n",
      "$ gender         <chr> \"Female\", \"Female\", \"Female\", \"Female\", \"Female\", \"F...\n",
      "$ referral       <chr> \"Unbranded Search\", \"Unbranded Search\", \"Social\", \"U...\n",
      "$ pageviews      <dbl> 9, 7, 3, 7, 11, 11, 12, 5, 3, 2, 5, 2, 2, 12, 12, 3,...\n",
      "$ purchased      <dbl> 0, 0, 0, 0, 0, 0, 0, 0, 0, 0, 0, 0, 0, 0, 0, 0, 0, 0...\n",
      "$ purchaseAmount <dbl> 0, 0, 0, 0, 0, 0, 0, 0, 0, 0, 0, 0, 0, 0, 0, 0, 0, 0...\n"
     ]
    }
   ],
   "source": [
    "df%>% glimpse"
   ]
  },
  {
   "cell_type": "code",
   "execution_count": 7,
   "metadata": {},
   "outputs": [
    {
     "data": {
      "text/plain": [
       "    dateTime                     country            profile         \n",
       " Min.   :2014-07-25 14:10:00   Length:1592        Length:1592       \n",
       " 1st Qu.:2014-08-06 23:23:00   Class :character   Class :character  \n",
       " Median :2014-08-20 14:36:00   Mode  :character   Mode  :character  \n",
       " Mean   :2014-08-20 03:50:21                                        \n",
       " 3rd Qu.:2014-09-02 11:18:45                                        \n",
       " Max.   :2014-09-11 11:53:00                                        \n",
       "     age               gender            referral           pageviews     \n",
       " Length:1592        Length:1592        Length:1592        Min.   : 1.000  \n",
       " Class :character   Class :character   Class :character   1st Qu.: 3.000  \n",
       " Mode  :character   Mode  :character   Mode  :character   Median : 6.000  \n",
       "                                                          Mean   : 6.765  \n",
       "                                                          3rd Qu.:10.000  \n",
       "                                                          Max.   :12.000  \n",
       "   purchased       purchaseAmount   \n",
       " Min.   :0.00000   Min.   :  0.000  \n",
       " 1st Qu.:0.00000   1st Qu.:  0.000  \n",
       " Median :0.00000   Median :  0.000  \n",
       " Mean   :0.07098   Mean   :  7.227  \n",
       " 3rd Qu.:0.00000   3rd Qu.:  0.000  \n",
       " Max.   :1.00000   Max.   :155.230  "
      ]
     },
     "metadata": {},
     "output_type": "display_data"
    }
   ],
   "source": [
    "df %>% summary"
   ]
  },
  {
   "cell_type": "code",
   "execution_count": 8,
   "metadata": {},
   "outputs": [
    {
     "data": {
      "text/html": [
       "<table>\n",
       "<thead><tr><th scope=col>sum(pageviews)</th></tr></thead>\n",
       "<tbody>\n",
       "\t<tr><td>10770</td></tr>\n",
       "</tbody>\n",
       "</table>\n"
      ],
      "text/latex": [
       "\\begin{tabular}{r|l}\n",
       " sum(pageviews)\\\\\n",
       "\\hline\n",
       "\t 10770\\\\\n",
       "\\end{tabular}\n"
      ],
      "text/markdown": [
       "\n",
       "| sum(pageviews) |\n",
       "|---|\n",
       "| 10770 |\n",
       "\n"
      ],
      "text/plain": [
       "  sum(pageviews)\n",
       "1 10770         "
      ]
     },
     "metadata": {},
     "output_type": "display_data"
    }
   ],
   "source": [
    "# find total no. of page views\n",
    "df %>%\n",
    "summarize(sum(pageviews))"
   ]
  },
  {
   "cell_type": "code",
   "execution_count": 9,
   "metadata": {},
   "outputs": [
    {
     "data": {
      "text/html": [
       "<table>\n",
       "<thead><tr><th scope=col>profile</th><th scope=col>n</th></tr></thead>\n",
       "<tbody>\n",
       "\t<tr><td>Parent              </td><td>776                 </td></tr>\n",
       "\t<tr><td>Health Professional </td><td>277                 </td></tr>\n",
       "\t<tr><td>Teacher             </td><td>223                 </td></tr>\n",
       "\t<tr><td>Other               </td><td>134                 </td></tr>\n",
       "\t<tr><td>Relative            </td><td>107                 </td></tr>\n",
       "\t<tr><td>Patient             </td><td> 52                 </td></tr>\n",
       "\t<tr><td>Friend/family friend</td><td> 23                 </td></tr>\n",
       "</tbody>\n",
       "</table>\n"
      ],
      "text/latex": [
       "\\begin{tabular}{r|ll}\n",
       " profile & n\\\\\n",
       "\\hline\n",
       "\t Parent               & 776                 \\\\\n",
       "\t Health Professional  & 277                 \\\\\n",
       "\t Teacher              & 223                 \\\\\n",
       "\t Other                & 134                 \\\\\n",
       "\t Relative             & 107                 \\\\\n",
       "\t Patient              &  52                 \\\\\n",
       "\t Friend/family friend &  23                 \\\\\n",
       "\\end{tabular}\n"
      ],
      "text/markdown": [
       "\n",
       "| profile | n |\n",
       "|---|---|\n",
       "| Parent               | 776                  |\n",
       "| Health Professional  | 277                  |\n",
       "| Teacher              | 223                  |\n",
       "| Other                | 134                  |\n",
       "| Relative             | 107                  |\n",
       "| Patient              |  52                  |\n",
       "| Friend/family friend |  23                  |\n",
       "\n"
      ],
      "text/plain": [
       "  profile              n  \n",
       "1 Parent               776\n",
       "2 Health Professional  277\n",
       "3 Teacher              223\n",
       "4 Other                134\n",
       "5 Relative             107\n",
       "6 Patient               52\n",
       "7 Friend/family friend  23"
      ]
     },
     "metadata": {},
     "output_type": "display_data"
    }
   ],
   "source": [
    "# find out which profile visit the site the most, arrange in desc\n",
    "df %>%\n",
    "count(profile)%>%\n",
    "arrange(-n)"
   ]
  },
  {
   "cell_type": "code",
   "execution_count": 10,
   "metadata": {},
   "outputs": [
    {
     "data": {
      "text/html": [
       "<table>\n",
       "<thead><tr><th scope=col>age</th><th scope=col>referral</th><th scope=col>n</th></tr></thead>\n",
       "<tbody>\n",
       "\t<tr><td>35-44           </td><td>Unbranded Search</td><td>106             </td></tr>\n",
       "\t<tr><td>25-34           </td><td>Unbranded Search</td><td> 92             </td></tr>\n",
       "\t<tr><td>35-44           </td><td>Direct          </td><td> 74             </td></tr>\n",
       "\t<tr><td>45-54           </td><td>Unbranded Search</td><td> 69             </td></tr>\n",
       "\t<tr><td>18-24           </td><td>Unbranded Search</td><td> 53             </td></tr>\n",
       "\t<tr><td>55-64           </td><td>Unbranded Search</td><td> 53             </td></tr>\n",
       "\t<tr><td>45-54           </td><td>Direct          </td><td> 46             </td></tr>\n",
       "\t<tr><td>25-34           </td><td>Direct          </td><td> 44             </td></tr>\n",
       "\t<tr><td>35-44           </td><td>Referred        </td><td> 28             </td></tr>\n",
       "\t<tr><td>18-24           </td><td>Direct          </td><td> 27             </td></tr>\n",
       "\t<tr><td>55-64           </td><td>Direct          </td><td> 27             </td></tr>\n",
       "\t<tr><td>25-34           </td><td>Referred        </td><td> 15             </td></tr>\n",
       "\t<tr><td>35-44           </td><td>Social          </td><td> 14             </td></tr>\n",
       "\t<tr><td>25-34           </td><td>Self Referred   </td><td> 10             </td></tr>\n",
       "\t<tr><td>25-34           </td><td>Social          </td><td> 10             </td></tr>\n",
       "\t<tr><td>45-54           </td><td>Referred        </td><td> 10             </td></tr>\n",
       "\t<tr><td>18-24           </td><td>Referred        </td><td>  9             </td></tr>\n",
       "\t<tr><td>35-44           </td><td>Self Referred   </td><td>  8             </td></tr>\n",
       "\t<tr><td>45-54           </td><td>Social          </td><td>  8             </td></tr>\n",
       "\t<tr><td>55-64           </td><td>Referred        </td><td>  8             </td></tr>\n",
       "\t<tr><td>Less than 18    </td><td>Direct          </td><td>  8             </td></tr>\n",
       "\t<tr><td>18-24           </td><td>Social          </td><td>  7             </td></tr>\n",
       "\t<tr><td>55-64           </td><td>Social          </td><td>  7             </td></tr>\n",
       "\t<tr><td>25-34           </td><td>Branded Search  </td><td>  6             </td></tr>\n",
       "\t<tr><td>35-44           </td><td>Branded Search  </td><td>  6             </td></tr>\n",
       "\t<tr><td>45-54           </td><td>Self Referred   </td><td>  5             </td></tr>\n",
       "\t<tr><td>18-24           </td><td>Self Referred   </td><td>  4             </td></tr>\n",
       "\t<tr><td>45-54           </td><td>Branded Search  </td><td>  4             </td></tr>\n",
       "\t<tr><td>55-64           </td><td>Self Referred   </td><td>  4             </td></tr>\n",
       "\t<tr><td>Less than 18    </td><td>Unbranded Search</td><td>  4             </td></tr>\n",
       "\t<tr><td>18-24           </td><td>Branded Search  </td><td>  3             </td></tr>\n",
       "\t<tr><td>55-64           </td><td>Branded Search  </td><td>  3             </td></tr>\n",
       "\t<tr><td>35-44           </td><td>Email           </td><td>  1             </td></tr>\n",
       "\t<tr><td>45-54           </td><td>Email           </td><td>  1             </td></tr>\n",
       "\t<tr><td>45-54           </td><td>Paid Search     </td><td>  1             </td></tr>\n",
       "\t<tr><td>55-64           </td><td>Email           </td><td>  1             </td></tr>\n",
       "</tbody>\n",
       "</table>\n"
      ],
      "text/latex": [
       "\\begin{tabular}{r|lll}\n",
       " age & referral & n\\\\\n",
       "\\hline\n",
       "\t 35-44            & Unbranded Search & 106             \\\\\n",
       "\t 25-34            & Unbranded Search &  92             \\\\\n",
       "\t 35-44            & Direct           &  74             \\\\\n",
       "\t 45-54            & Unbranded Search &  69             \\\\\n",
       "\t 18-24            & Unbranded Search &  53             \\\\\n",
       "\t 55-64            & Unbranded Search &  53             \\\\\n",
       "\t 45-54            & Direct           &  46             \\\\\n",
       "\t 25-34            & Direct           &  44             \\\\\n",
       "\t 35-44            & Referred         &  28             \\\\\n",
       "\t 18-24            & Direct           &  27             \\\\\n",
       "\t 55-64            & Direct           &  27             \\\\\n",
       "\t 25-34            & Referred         &  15             \\\\\n",
       "\t 35-44            & Social           &  14             \\\\\n",
       "\t 25-34            & Self Referred    &  10             \\\\\n",
       "\t 25-34            & Social           &  10             \\\\\n",
       "\t 45-54            & Referred         &  10             \\\\\n",
       "\t 18-24            & Referred         &   9             \\\\\n",
       "\t 35-44            & Self Referred    &   8             \\\\\n",
       "\t 45-54            & Social           &   8             \\\\\n",
       "\t 55-64            & Referred         &   8             \\\\\n",
       "\t Less than 18     & Direct           &   8             \\\\\n",
       "\t 18-24            & Social           &   7             \\\\\n",
       "\t 55-64            & Social           &   7             \\\\\n",
       "\t 25-34            & Branded Search   &   6             \\\\\n",
       "\t 35-44            & Branded Search   &   6             \\\\\n",
       "\t 45-54            & Self Referred    &   5             \\\\\n",
       "\t 18-24            & Self Referred    &   4             \\\\\n",
       "\t 45-54            & Branded Search   &   4             \\\\\n",
       "\t 55-64            & Self Referred    &   4             \\\\\n",
       "\t Less than 18     & Unbranded Search &   4             \\\\\n",
       "\t 18-24            & Branded Search   &   3             \\\\\n",
       "\t 55-64            & Branded Search   &   3             \\\\\n",
       "\t 35-44            & Email            &   1             \\\\\n",
       "\t 45-54            & Email            &   1             \\\\\n",
       "\t 45-54            & Paid Search      &   1             \\\\\n",
       "\t 55-64            & Email            &   1             \\\\\n",
       "\\end{tabular}\n"
      ],
      "text/markdown": [
       "\n",
       "| age | referral | n |\n",
       "|---|---|---|\n",
       "| 35-44            | Unbranded Search | 106              |\n",
       "| 25-34            | Unbranded Search |  92              |\n",
       "| 35-44            | Direct           |  74              |\n",
       "| 45-54            | Unbranded Search |  69              |\n",
       "| 18-24            | Unbranded Search |  53              |\n",
       "| 55-64            | Unbranded Search |  53              |\n",
       "| 45-54            | Direct           |  46              |\n",
       "| 25-34            | Direct           |  44              |\n",
       "| 35-44            | Referred         |  28              |\n",
       "| 18-24            | Direct           |  27              |\n",
       "| 55-64            | Direct           |  27              |\n",
       "| 25-34            | Referred         |  15              |\n",
       "| 35-44            | Social           |  14              |\n",
       "| 25-34            | Self Referred    |  10              |\n",
       "| 25-34            | Social           |  10              |\n",
       "| 45-54            | Referred         |  10              |\n",
       "| 18-24            | Referred         |   9              |\n",
       "| 35-44            | Self Referred    |   8              |\n",
       "| 45-54            | Social           |   8              |\n",
       "| 55-64            | Referred         |   8              |\n",
       "| Less than 18     | Direct           |   8              |\n",
       "| 18-24            | Social           |   7              |\n",
       "| 55-64            | Social           |   7              |\n",
       "| 25-34            | Branded Search   |   6              |\n",
       "| 35-44            | Branded Search   |   6              |\n",
       "| 45-54            | Self Referred    |   5              |\n",
       "| 18-24            | Self Referred    |   4              |\n",
       "| 45-54            | Branded Search   |   4              |\n",
       "| 55-64            | Self Referred    |   4              |\n",
       "| Less than 18     | Unbranded Search |   4              |\n",
       "| 18-24            | Branded Search   |   3              |\n",
       "| 55-64            | Branded Search   |   3              |\n",
       "| 35-44            | Email            |   1              |\n",
       "| 45-54            | Email            |   1              |\n",
       "| 45-54            | Paid Search      |   1              |\n",
       "| 55-64            | Email            |   1              |\n",
       "\n"
      ],
      "text/plain": [
       "   age          referral         n  \n",
       "1  35-44        Unbranded Search 106\n",
       "2  25-34        Unbranded Search  92\n",
       "3  35-44        Direct            74\n",
       "4  45-54        Unbranded Search  69\n",
       "5  18-24        Unbranded Search  53\n",
       "6  55-64        Unbranded Search  53\n",
       "7  45-54        Direct            46\n",
       "8  25-34        Direct            44\n",
       "9  35-44        Referred          28\n",
       "10 18-24        Direct            27\n",
       "11 55-64        Direct            27\n",
       "12 25-34        Referred          15\n",
       "13 35-44        Social            14\n",
       "14 25-34        Self Referred     10\n",
       "15 25-34        Social            10\n",
       "16 45-54        Referred          10\n",
       "17 18-24        Referred           9\n",
       "18 35-44        Self Referred      8\n",
       "19 45-54        Social             8\n",
       "20 55-64        Referred           8\n",
       "21 Less than 18 Direct             8\n",
       "22 18-24        Social             7\n",
       "23 55-64        Social             7\n",
       "24 25-34        Branded Search     6\n",
       "25 35-44        Branded Search     6\n",
       "26 45-54        Self Referred      5\n",
       "27 18-24        Self Referred      4\n",
       "28 45-54        Branded Search     4\n",
       "29 55-64        Self Referred      4\n",
       "30 Less than 18 Unbranded Search   4\n",
       "31 18-24        Branded Search     3\n",
       "32 55-64        Branded Search     3\n",
       "33 35-44        Email              1\n",
       "34 45-54        Email              1\n",
       "35 45-54        Paid Search        1\n",
       "36 55-64        Email              1"
      ]
     },
     "metadata": {},
     "output_type": "display_data"
    }
   ],
   "source": [
    "# find out which age group of parents visit the site the most\n",
    "\n",
    "df%>%\n",
    "filter(profile==\"Parent\")%>%\n",
    "group_by(age)%>%\n",
    "count(age,referral)%>%\n",
    "arrange(-n)"
   ]
  },
  {
   "cell_type": "code",
   "execution_count": 11,
   "metadata": {
    "scrolled": true
   },
   "outputs": [
    {
     "data": {
      "text/html": [
       "<table>\n",
       "<thead><tr><th scope=col>profile</th><th scope=col>age</th><th scope=col>purchased</th><th scope=col>n</th></tr></thead>\n",
       "<tbody>\n",
       "\t<tr><td>Parent             </td><td>35-44              </td><td>0                  </td><td>215                </td></tr>\n",
       "\t<tr><td>Parent             </td><td>25-34              </td><td>0                  </td><td>162                </td></tr>\n",
       "\t<tr><td>Parent             </td><td>45-54              </td><td>0                  </td><td>127                </td></tr>\n",
       "\t<tr><td>Parent             </td><td>18-24              </td><td>0                  </td><td> 97                </td></tr>\n",
       "\t<tr><td>Parent             </td><td>55-64              </td><td>0                  </td><td> 94                </td></tr>\n",
       "\t<tr><td>Health Professional</td><td>25-34              </td><td>0                  </td><td> 58                </td></tr>\n",
       "\t<tr><td>Health Professional</td><td>35-44              </td><td>0                  </td><td> 58                </td></tr>\n",
       "\t<tr><td>Health Professional</td><td>45-54              </td><td>0                  </td><td> 58                </td></tr>\n",
       "\t<tr><td>Teacher            </td><td>45-54              </td><td>0                  </td><td> 58                </td></tr>\n",
       "\t<tr><td>Health Professional</td><td>55-64              </td><td>0                  </td><td> 55                </td></tr>\n",
       "</tbody>\n",
       "</table>\n"
      ],
      "text/latex": [
       "\\begin{tabular}{r|llll}\n",
       " profile & age & purchased & n\\\\\n",
       "\\hline\n",
       "\t Parent              & 35-44               & 0                   & 215                \\\\\n",
       "\t Parent              & 25-34               & 0                   & 162                \\\\\n",
       "\t Parent              & 45-54               & 0                   & 127                \\\\\n",
       "\t Parent              & 18-24               & 0                   &  97                \\\\\n",
       "\t Parent              & 55-64               & 0                   &  94                \\\\\n",
       "\t Health Professional & 25-34               & 0                   &  58                \\\\\n",
       "\t Health Professional & 35-44               & 0                   &  58                \\\\\n",
       "\t Health Professional & 45-54               & 0                   &  58                \\\\\n",
       "\t Teacher             & 45-54               & 0                   &  58                \\\\\n",
       "\t Health Professional & 55-64               & 0                   &  55                \\\\\n",
       "\\end{tabular}\n"
      ],
      "text/markdown": [
       "\n",
       "| profile | age | purchased | n |\n",
       "|---|---|---|---|\n",
       "| Parent              | 35-44               | 0                   | 215                 |\n",
       "| Parent              | 25-34               | 0                   | 162                 |\n",
       "| Parent              | 45-54               | 0                   | 127                 |\n",
       "| Parent              | 18-24               | 0                   |  97                 |\n",
       "| Parent              | 55-64               | 0                   |  94                 |\n",
       "| Health Professional | 25-34               | 0                   |  58                 |\n",
       "| Health Professional | 35-44               | 0                   |  58                 |\n",
       "| Health Professional | 45-54               | 0                   |  58                 |\n",
       "| Teacher             | 45-54               | 0                   |  58                 |\n",
       "| Health Professional | 55-64               | 0                   |  55                 |\n",
       "\n"
      ],
      "text/plain": [
       "   profile             age   purchased n  \n",
       "1  Parent              35-44 0         215\n",
       "2  Parent              25-34 0         162\n",
       "3  Parent              45-54 0         127\n",
       "4  Parent              18-24 0          97\n",
       "5  Parent              55-64 0          94\n",
       "6  Health Professional 25-34 0          58\n",
       "7  Health Professional 35-44 0          58\n",
       "8  Health Professional 45-54 0          58\n",
       "9  Teacher             45-54 0          58\n",
       "10 Health Professional 55-64 0          55"
      ]
     },
     "metadata": {},
     "output_type": "display_data"
    }
   ],
   "source": [
    "# Did our top 10 visitors purchased at the site?\n",
    "\n",
    "df %>%\n",
    "count(profile, age, purchased)%>%\n",
    "arrange(-n)%>%\n",
    "head(10)"
   ]
  },
  {
   "cell_type": "code",
   "execution_count": 12,
   "metadata": {},
   "outputs": [
    {
     "data": {
      "text/html": [
       "<table>\n",
       "<thead><tr><th scope=col>purchased</th><th scope=col>n</th></tr></thead>\n",
       "<tbody>\n",
       "\t<tr><td>0   </td><td>1479</td></tr>\n",
       "\t<tr><td>1   </td><td> 113</td></tr>\n",
       "</tbody>\n",
       "</table>\n"
      ],
      "text/latex": [
       "\\begin{tabular}{r|ll}\n",
       " purchased & n\\\\\n",
       "\\hline\n",
       "\t 0    & 1479\\\\\n",
       "\t 1    &  113\\\\\n",
       "\\end{tabular}\n"
      ],
      "text/markdown": [
       "\n",
       "| purchased | n |\n",
       "|---|---|\n",
       "| 0    | 1479 |\n",
       "| 1    |  113 |\n",
       "\n"
      ],
      "text/plain": [
       "  purchased n   \n",
       "1 0         1479\n",
       "2 1          113"
      ]
     },
     "metadata": {},
     "output_type": "display_data"
    }
   ],
   "source": [
    "# How many purchases are there in total?\n",
    "df %>%\n",
    "count(purchased)"
   ]
  },
  {
   "cell_type": "code",
   "execution_count": 13,
   "metadata": {},
   "outputs": [
    {
     "data": {
      "text/html": [
       "<table>\n",
       "<thead><tr><th scope=col>gender</th><th scope=col>n</th></tr></thead>\n",
       "<tbody>\n",
       "\t<tr><td>Female</td><td>59    </td></tr>\n",
       "\t<tr><td>NA    </td><td>50    </td></tr>\n",
       "\t<tr><td>Male  </td><td> 4    </td></tr>\n",
       "</tbody>\n",
       "</table>\n"
      ],
      "text/latex": [
       "\\begin{tabular}{r|ll}\n",
       " gender & n\\\\\n",
       "\\hline\n",
       "\t Female & 59    \\\\\n",
       "\t NA     & 50    \\\\\n",
       "\t Male   &  4    \\\\\n",
       "\\end{tabular}\n"
      ],
      "text/markdown": [
       "\n",
       "| gender | n |\n",
       "|---|---|\n",
       "| Female | 59     |\n",
       "| NA     | 50     |\n",
       "| Male   |  4     |\n",
       "\n"
      ],
      "text/plain": [
       "  gender n \n",
       "1 Female 59\n",
       "2 NA     50\n",
       "3 Male    4"
      ]
     },
     "metadata": {},
     "output_type": "display_data"
    }
   ],
   "source": [
    "# How many female/male visitors bought something?\n",
    "df %>%\n",
    "filter(purchased==1)%>%\n",
    "count(gender)%>%\n",
    "arrange(-n)"
   ]
  },
  {
   "cell_type": "code",
   "execution_count": 14,
   "metadata": {},
   "outputs": [
    {
     "name": "stderr",
     "output_type": "stream",
     "text": [
      "`summarise()` ungrouping output (override with `.groups` argument)\n"
     ]
    },
    {
     "data": {
      "text/html": [
       "<table>\n",
       "<thead><tr><th scope=col>referral</th><th scope=col>purchases</th><th scope=col>revenue</th></tr></thead>\n",
       "<tbody>\n",
       "\t<tr><td>Unbranded Search</td><td>50              </td><td>5196.21         </td></tr>\n",
       "\t<tr><td>Direct          </td><td>35              </td><td>3517.91         </td></tr>\n",
       "\t<tr><td>Branded Search  </td><td>11              </td><td>1097.92         </td></tr>\n",
       "\t<tr><td>Referred        </td><td> 8              </td><td> 823.58         </td></tr>\n",
       "\t<tr><td>Self Referred   </td><td> 6              </td><td> 542.52         </td></tr>\n",
       "\t<tr><td>Social          </td><td> 3              </td><td> 327.18         </td></tr>\n",
       "\t<tr><td>Email           </td><td> 0              </td><td>   0.00         </td></tr>\n",
       "\t<tr><td>Paid Search     </td><td> 0              </td><td>   0.00         </td></tr>\n",
       "</tbody>\n",
       "</table>\n"
      ],
      "text/latex": [
       "\\begin{tabular}{r|lll}\n",
       " referral & purchases & revenue\\\\\n",
       "\\hline\n",
       "\t Unbranded Search & 50               & 5196.21         \\\\\n",
       "\t Direct           & 35               & 3517.91         \\\\\n",
       "\t Branded Search   & 11               & 1097.92         \\\\\n",
       "\t Referred         &  8               &  823.58         \\\\\n",
       "\t Self Referred    &  6               &  542.52         \\\\\n",
       "\t Social           &  3               &  327.18         \\\\\n",
       "\t Email            &  0               &    0.00         \\\\\n",
       "\t Paid Search      &  0               &    0.00         \\\\\n",
       "\\end{tabular}\n"
      ],
      "text/markdown": [
       "\n",
       "| referral | purchases | revenue |\n",
       "|---|---|---|\n",
       "| Unbranded Search | 50               | 5196.21          |\n",
       "| Direct           | 35               | 3517.91          |\n",
       "| Branded Search   | 11               | 1097.92          |\n",
       "| Referred         |  8               |  823.58          |\n",
       "| Self Referred    |  6               |  542.52          |\n",
       "| Social           |  3               |  327.18          |\n",
       "| Email            |  0               |    0.00          |\n",
       "| Paid Search      |  0               |    0.00          |\n",
       "\n"
      ],
      "text/plain": [
       "  referral         purchases revenue\n",
       "1 Unbranded Search 50        5196.21\n",
       "2 Direct           35        3517.91\n",
       "3 Branded Search   11        1097.92\n",
       "4 Referred          8         823.58\n",
       "5 Self Referred     6         542.52\n",
       "6 Social            3         327.18\n",
       "7 Email             0           0.00\n",
       "8 Paid Search       0           0.00"
      ]
     },
     "metadata": {},
     "output_type": "display_data"
    }
   ],
   "source": [
    "# which referral channel has the highest revenue?\n",
    "df %>%\n",
    "group_by(referral)%>%\n",
    "summarize(purchases=sum(purchased),\n",
    "         revenue=sum(purchaseAmount))%>%\n",
    "arrange(-revenue)"
   ]
  },
  {
   "cell_type": "code",
   "execution_count": 15,
   "metadata": {},
   "outputs": [
    {
     "name": "stderr",
     "output_type": "stream",
     "text": [
      "`summarise()` ungrouping output (override with `.groups` argument)\n"
     ]
    },
    {
     "data": {
      "image/png": "[encoded data removed]",
      "text/plain": [
       "plot without title"
      ]
     },
     "metadata": {},
     "output_type": "display_data"
    }
   ],
   "source": [
    "# graph visualization\n",
    "\n",
    "df %>%\n",
    "group_by(referral)%>%\n",
    "summarize(revenue=sum(purchaseAmount))%>%\n",
    "ggplot(aes(x=reorder(referral,-revenue),y=revenue))+\n",
    "geom_col()+\n",
    "ggtitle('Revenue by Referral')+\n",
    "xlab('Referral') + ylab('Revenue')"
   ]
  },
  {
   "cell_type": "code",
   "execution_count": 16,
   "metadata": {},
   "outputs": [
    {
     "name": "stderr",
     "output_type": "stream",
     "text": [
      "`summarise()` ungrouping output (override with `.groups` argument)\n"
     ]
    },
    {
     "data": {
      "text/html": [
       "<table>\n",
       "<thead><tr><th scope=col>country</th><th scope=col>purchases</th><th scope=col>revenue</th></tr></thead>\n",
       "<tbody>\n",
       "\t<tr><td>United States</td><td>100          </td><td>10241.76     </td></tr>\n",
       "\t<tr><td>Australia    </td><td>  6          </td><td>  607.62     </td></tr>\n",
       "\t<tr><td>Canada       </td><td>  3          </td><td>  330.81     </td></tr>\n",
       "\t<tr><td>India        </td><td>  1          </td><td>   82.70     </td></tr>\n",
       "\t<tr><td>Nigeria      </td><td>  1          </td><td>   84.10     </td></tr>\n",
       "\t<tr><td>Puerto Rico  </td><td>  1          </td><td>   59.42     </td></tr>\n",
       "\t<tr><td>South Africa </td><td>  1          </td><td>   98.91     </td></tr>\n",
       "\t<tr><td>Barbados     </td><td>  0          </td><td>    0.00     </td></tr>\n",
       "\t<tr><td>Botswana     </td><td>  0          </td><td>    0.00     </td></tr>\n",
       "\t<tr><td>Brazil       </td><td>  0          </td><td>    0.00     </td></tr>\n",
       "</tbody>\n",
       "</table>\n"
      ],
      "text/latex": [
       "\\begin{tabular}{r|lll}\n",
       " country & purchases & revenue\\\\\n",
       "\\hline\n",
       "\t United States & 100           & 10241.76     \\\\\n",
       "\t Australia     &   6           &   607.62     \\\\\n",
       "\t Canada        &   3           &   330.81     \\\\\n",
       "\t India         &   1           &    82.70     \\\\\n",
       "\t Nigeria       &   1           &    84.10     \\\\\n",
       "\t Puerto Rico   &   1           &    59.42     \\\\\n",
       "\t South Africa  &   1           &    98.91     \\\\\n",
       "\t Barbados      &   0           &     0.00     \\\\\n",
       "\t Botswana      &   0           &     0.00     \\\\\n",
       "\t Brazil        &   0           &     0.00     \\\\\n",
       "\\end{tabular}\n"
      ],
      "text/markdown": [
       "\n",
       "| country | purchases | revenue |\n",
       "|---|---|---|\n",
       "| United States | 100           | 10241.76      |\n",
       "| Australia     |   6           |   607.62      |\n",
       "| Canada        |   3           |   330.81      |\n",
       "| India         |   1           |    82.70      |\n",
       "| Nigeria       |   1           |    84.10      |\n",
       "| Puerto Rico   |   1           |    59.42      |\n",
       "| South Africa  |   1           |    98.91      |\n",
       "| Barbados      |   0           |     0.00      |\n",
       "| Botswana      |   0           |     0.00      |\n",
       "| Brazil        |   0           |     0.00      |\n",
       "\n"
      ],
      "text/plain": [
       "   country       purchases revenue \n",
       "1  United States 100       10241.76\n",
       "2  Australia       6         607.62\n",
       "3  Canada          3         330.81\n",
       "4  India           1          82.70\n",
       "5  Nigeria         1          84.10\n",
       "6  Puerto Rico     1          59.42\n",
       "7  South Africa    1          98.91\n",
       "8  Barbados        0           0.00\n",
       "9  Botswana        0           0.00\n",
       "10 Brazil          0           0.00"
      ]
     },
     "metadata": {},
     "output_type": "display_data"
    }
   ],
   "source": [
    "# which top 10 country has the highest revenue?\n",
    "df %>%\n",
    "group_by(country)%>%\n",
    "summarize(purchases=sum(purchased),\n",
    "         revenue=sum(purchaseAmount))%>%\n",
    "arrange(-purchases)%>%\n",
    "head(10)"
   ]
  },
  {
   "cell_type": "code",
   "execution_count": 17,
   "metadata": {},
   "outputs": [
    {
     "name": "stderr",
     "output_type": "stream",
     "text": [
      "`summarise()` regrouping output by 'profile' (override with `.groups` argument)\n"
     ]
    },
    {
     "data": {
      "text/html": [
       "<table>\n",
       "<thead><tr><th scope=col>profile</th><th scope=col>age</th><th scope=col>purchases</th><th scope=col>purchaseRate</th><th scope=col>AOV</th></tr></thead>\n",
       "<tbody>\n",
       "\t<tr><td>Parent              </td><td>35-44               </td><td>22                  </td><td>0.09282700          </td><td>100.24818           </td></tr>\n",
       "\t<tr><td>Parent              </td><td>45-54               </td><td>17                  </td><td>0.11805556          </td><td> 97.82059           </td></tr>\n",
       "\t<tr><td>Parent              </td><td>25-34               </td><td>15                  </td><td>0.08474576          </td><td>101.74867           </td></tr>\n",
       "\t<tr><td>Parent              </td><td>55-64               </td><td> 9                  </td><td>0.08737864          </td><td>113.59000           </td></tr>\n",
       "\t<tr><td>Parent              </td><td>18-24               </td><td> 6                  </td><td>0.05825243          </td><td>106.16333           </td></tr>\n",
       "\t<tr><td>Teacher             </td><td>45-54               </td><td> 5                  </td><td>0.07936508          </td><td>112.99600           </td></tr>\n",
       "\t<tr><td>Health Professional </td><td>35-44               </td><td> 4                  </td><td>0.06451613          </td><td>108.82250           </td></tr>\n",
       "\t<tr><td>Teacher             </td><td>35-44               </td><td> 4                  </td><td>0.10000000          </td><td>100.14500           </td></tr>\n",
       "\t<tr><td>Health Professional </td><td>45-54               </td><td> 3                  </td><td>0.04918033          </td><td> 79.52000           </td></tr>\n",
       "\t<tr><td>Other               </td><td>45-54               </td><td> 3                  </td><td>0.10000000          </td><td> 72.19333           </td></tr>\n",
       "\t<tr><td>Relative            </td><td>35-44               </td><td> 3                  </td><td>0.20000000          </td><td> 96.05667           </td></tr>\n",
       "\t<tr><td>Relative            </td><td>55-64               </td><td> 3                  </td><td>0.11538462          </td><td>106.13667           </td></tr>\n",
       "\t<tr><td>Health Professional </td><td>25-34               </td><td> 2                  </td><td>0.03333333          </td><td>103.92500           </td></tr>\n",
       "\t<tr><td>Other               </td><td>18-24               </td><td> 2                  </td><td>0.09090909          </td><td>124.04500           </td></tr>\n",
       "\t<tr><td>Parent              </td><td>Less than 18        </td><td> 2                  </td><td>0.16666667          </td><td>107.41500           </td></tr>\n",
       "\t<tr><td>Patient             </td><td>18-24               </td><td> 2                  </td><td>0.14285714          </td><td> 92.16000           </td></tr>\n",
       "\t<tr><td>Relative            </td><td>45-54               </td><td> 2                  </td><td>0.08333333          </td><td>121.07000           </td></tr>\n",
       "\t<tr><td>Health Professional </td><td>55-64               </td><td> 1                  </td><td>0.01785714          </td><td> 62.50000           </td></tr>\n",
       "\t<tr><td>Health Professional </td><td>65 or older         </td><td> 1                  </td><td>0.33333333          </td><td>112.47000           </td></tr>\n",
       "\t<tr><td>Other               </td><td>25-34               </td><td> 1                  </td><td>0.04347826          </td><td>108.34000           </td></tr>\n",
       "\t<tr><td>Other               </td><td>55-64               </td><td> 1                  </td><td>0.04166667          </td><td> 99.61000           </td></tr>\n",
       "\t<tr><td>Patient             </td><td>Less than 18        </td><td> 1                  </td><td>0.14285714          </td><td>147.84000           </td></tr>\n",
       "\t<tr><td>Relative            </td><td>18-24               </td><td> 1                  </td><td>0.06250000          </td><td> 97.93000           </td></tr>\n",
       "\t<tr><td>Teacher             </td><td>18-24               </td><td> 1                  </td><td>0.03030303          </td><td>110.78000           </td></tr>\n",
       "\t<tr><td>Teacher             </td><td>25-34               </td><td> 1                  </td><td>0.02439024          </td><td> 81.10000           </td></tr>\n",
       "\t<tr><td>Teacher             </td><td>55-64               </td><td> 1                  </td><td>0.02173913          </td><td> 71.02000           </td></tr>\n",
       "\t<tr><td>Friend/family friend</td><td>18-24               </td><td> 0                  </td><td>0.00000000          </td><td>      NaN           </td></tr>\n",
       "\t<tr><td>Friend/family friend</td><td>25-34               </td><td> 0                  </td><td>0.00000000          </td><td>      NaN           </td></tr>\n",
       "\t<tr><td>Friend/family friend</td><td>35-44               </td><td> 0                  </td><td>0.00000000          </td><td>      NaN           </td></tr>\n",
       "\t<tr><td>Friend/family friend</td><td>45-54               </td><td> 0                  </td><td>0.00000000          </td><td>      NaN           </td></tr>\n",
       "\t<tr><td>Friend/family friend</td><td>55-64               </td><td> 0                  </td><td>0.00000000          </td><td>      NaN           </td></tr>\n",
       "\t<tr><td>Health Professional </td><td>18-24               </td><td> 0                  </td><td>0.00000000          </td><td>      NaN           </td></tr>\n",
       "\t<tr><td>Health Professional </td><td>Less than 18        </td><td> 0                  </td><td>0.00000000          </td><td>      NaN           </td></tr>\n",
       "\t<tr><td>Other               </td><td>35-44               </td><td> 0                  </td><td>0.00000000          </td><td>      NaN           </td></tr>\n",
       "\t<tr><td>Other               </td><td>65 or older         </td><td> 0                  </td><td>0.00000000          </td><td>      NaN           </td></tr>\n",
       "\t<tr><td>Other               </td><td>Less than 18        </td><td> 0                  </td><td>0.00000000          </td><td>      NaN           </td></tr>\n",
       "\t<tr><td>Patient             </td><td>25-34               </td><td> 0                  </td><td>0.00000000          </td><td>      NaN           </td></tr>\n",
       "\t<tr><td>Patient             </td><td>35-44               </td><td> 0                  </td><td>0.00000000          </td><td>      NaN           </td></tr>\n",
       "\t<tr><td>Patient             </td><td>45-54               </td><td> 0                  </td><td>0.00000000          </td><td>      NaN           </td></tr>\n",
       "\t<tr><td>Patient             </td><td>55-64               </td><td> 0                  </td><td>0.00000000          </td><td>      NaN           </td></tr>\n",
       "\t<tr><td>Relative            </td><td>25-34               </td><td> 0                  </td><td>0.00000000          </td><td>      NaN           </td></tr>\n",
       "\t<tr><td>Relative            </td><td>65 or older         </td><td> 0                  </td><td>0.00000000          </td><td>      NaN           </td></tr>\n",
       "\t<tr><td>Relative            </td><td>Less than 18        </td><td> 0                  </td><td>0.00000000          </td><td>      NaN           </td></tr>\n",
       "</tbody>\n",
       "</table>\n"
      ],
      "text/latex": [
       "\\begin{tabular}{r|lllll}\n",
       " profile & age & purchases & purchaseRate & AOV\\\\\n",
       "\\hline\n",
       "\t Parent               & 35-44                & 22                   & 0.09282700           & 100.24818           \\\\\n",
       "\t Parent               & 45-54                & 17                   & 0.11805556           &  97.82059           \\\\\n",
       "\t Parent               & 25-34                & 15                   & 0.08474576           & 101.74867           \\\\\n",
       "\t Parent               & 55-64                &  9                   & 0.08737864           & 113.59000           \\\\\n",
       "\t Parent               & 18-24                &  6                   & 0.05825243           & 106.16333           \\\\\n",
       "\t Teacher              & 45-54                &  5                   & 0.07936508           & 112.99600           \\\\\n",
       "\t Health Professional  & 35-44                &  4                   & 0.06451613           & 108.82250           \\\\\n",
       "\t Teacher              & 35-44                &  4                   & 0.10000000           & 100.14500           \\\\\n",
       "\t Health Professional  & 45-54                &  3                   & 0.04918033           &  79.52000           \\\\\n",
       "\t Other                & 45-54                &  3                   & 0.10000000           &  72.19333           \\\\\n",
       "\t Relative             & 35-44                &  3                   & 0.20000000           &  96.05667           \\\\\n",
       "\t Relative             & 55-64                &  3                   & 0.11538462           & 106.13667           \\\\\n",
       "\t Health Professional  & 25-34                &  2                   & 0.03333333           & 103.92500           \\\\\n",
       "\t Other                & 18-24                &  2                   & 0.09090909           & 124.04500           \\\\\n",
       "\t Parent               & Less than 18         &  2                   & 0.16666667           & 107.41500           \\\\\n",
       "\t Patient              & 18-24                &  2                   & 0.14285714           &  92.16000           \\\\\n",
       "\t Relative             & 45-54                &  2                   & 0.08333333           & 121.07000           \\\\\n",
       "\t Health Professional  & 55-64                &  1                   & 0.01785714           &  62.50000           \\\\\n",
       "\t Health Professional  & 65 or older          &  1                   & 0.33333333           & 112.47000           \\\\\n",
       "\t Other                & 25-34                &  1                   & 0.04347826           & 108.34000           \\\\\n",
       "\t Other                & 55-64                &  1                   & 0.04166667           &  99.61000           \\\\\n",
       "\t Patient              & Less than 18         &  1                   & 0.14285714           & 147.84000           \\\\\n",
       "\t Relative             & 18-24                &  1                   & 0.06250000           &  97.93000           \\\\\n",
       "\t Teacher              & 18-24                &  1                   & 0.03030303           & 110.78000           \\\\\n",
       "\t Teacher              & 25-34                &  1                   & 0.02439024           &  81.10000           \\\\\n",
       "\t Teacher              & 55-64                &  1                   & 0.02173913           &  71.02000           \\\\\n",
       "\t Friend/family friend & 18-24                &  0                   & 0.00000000           &       NaN           \\\\\n",
       "\t Friend/family friend & 25-34                &  0                   & 0.00000000           &       NaN           \\\\\n",
       "\t Friend/family friend & 35-44                &  0                   & 0.00000000           &       NaN           \\\\\n",
       "\t Friend/family friend & 45-54                &  0                   & 0.00000000           &       NaN           \\\\\n",
       "\t Friend/family friend & 55-64                &  0                   & 0.00000000           &       NaN           \\\\\n",
       "\t Health Professional  & 18-24                &  0                   & 0.00000000           &       NaN           \\\\\n",
       "\t Health Professional  & Less than 18         &  0                   & 0.00000000           &       NaN           \\\\\n",
       "\t Other                & 35-44                &  0                   & 0.00000000           &       NaN           \\\\\n",
       "\t Other                & 65 or older          &  0                   & 0.00000000           &       NaN           \\\\\n",
       "\t Other                & Less than 18         &  0                   & 0.00000000           &       NaN           \\\\\n",
       "\t Patient              & 25-34                &  0                   & 0.00000000           &       NaN           \\\\\n",
       "\t Patient              & 35-44                &  0                   & 0.00000000           &       NaN           \\\\\n",
       "\t Patient              & 45-54                &  0                   & 0.00000000           &       NaN           \\\\\n",
       "\t Patient              & 55-64                &  0                   & 0.00000000           &       NaN           \\\\\n",
       "\t Relative             & 25-34                &  0                   & 0.00000000           &       NaN           \\\\\n",
       "\t Relative             & 65 or older          &  0                   & 0.00000000           &       NaN           \\\\\n",
       "\t Relative             & Less than 18         &  0                   & 0.00000000           &       NaN           \\\\\n",
       "\\end{tabular}\n"
      ],
      "text/markdown": [
       "\n",
       "| profile | age | purchases | purchaseRate | AOV |\n",
       "|---|---|---|---|---|\n",
       "| Parent               | 35-44                | 22                   | 0.09282700           | 100.24818            |\n",
       "| Parent               | 45-54                | 17                   | 0.11805556           |  97.82059            |\n",
       "| Parent               | 25-34                | 15                   | 0.08474576           | 101.74867            |\n",
       "| Parent               | 55-64                |  9                   | 0.08737864           | 113.59000            |\n",
       "| Parent               | 18-24                |  6                   | 0.05825243           | 106.16333            |\n",
       "| Teacher              | 45-54                |  5                   | 0.07936508           | 112.99600            |\n",
       "| Health Professional  | 35-44                |  4                   | 0.06451613           | 108.82250            |\n",
       "| Teacher              | 35-44                |  4                   | 0.10000000           | 100.14500            |\n",
       "| Health Professional  | 45-54                |  3                   | 0.04918033           |  79.52000            |\n",
       "| Other                | 45-54                |  3                   | 0.10000000           |  72.19333            |\n",
       "| Relative             | 35-44                |  3                   | 0.20000000           |  96.05667            |\n",
       "| Relative             | 55-64                |  3                   | 0.11538462           | 106.13667            |\n",
       "| Health Professional  | 25-34                |  2                   | 0.03333333           | 103.92500            |\n",
       "| Other                | 18-24                |  2                   | 0.09090909           | 124.04500            |\n",
       "| Parent               | Less than 18         |  2                   | 0.16666667           | 107.41500            |\n",
       "| Patient              | 18-24                |  2                   | 0.14285714           |  92.16000            |\n",
       "| Relative             | 45-54                |  2                   | 0.08333333           | 121.07000            |\n",
       "| Health Professional  | 55-64                |  1                   | 0.01785714           |  62.50000            |\n",
       "| Health Professional  | 65 or older          |  1                   | 0.33333333           | 112.47000            |\n",
       "| Other                | 25-34                |  1                   | 0.04347826           | 108.34000            |\n",
       "| Other                | 55-64                |  1                   | 0.04166667           |  99.61000            |\n",
       "| Patient              | Less than 18         |  1                   | 0.14285714           | 147.84000            |\n",
       "| Relative             | 18-24                |  1                   | 0.06250000           |  97.93000            |\n",
       "| Teacher              | 18-24                |  1                   | 0.03030303           | 110.78000            |\n",
       "| Teacher              | 25-34                |  1                   | 0.02439024           |  81.10000            |\n",
       "| Teacher              | 55-64                |  1                   | 0.02173913           |  71.02000            |\n",
       "| Friend/family friend | 18-24                |  0                   | 0.00000000           |       NaN            |\n",
       "| Friend/family friend | 25-34                |  0                   | 0.00000000           |       NaN            |\n",
       "| Friend/family friend | 35-44                |  0                   | 0.00000000           |       NaN            |\n",
       "| Friend/family friend | 45-54                |  0                   | 0.00000000           |       NaN            |\n",
       "| Friend/family friend | 55-64                |  0                   | 0.00000000           |       NaN            |\n",
       "| Health Professional  | 18-24                |  0                   | 0.00000000           |       NaN            |\n",
       "| Health Professional  | Less than 18         |  0                   | 0.00000000           |       NaN            |\n",
       "| Other                | 35-44                |  0                   | 0.00000000           |       NaN            |\n",
       "| Other                | 65 or older          |  0                   | 0.00000000           |       NaN            |\n",
       "| Other                | Less than 18         |  0                   | 0.00000000           |       NaN            |\n",
       "| Patient              | 25-34                |  0                   | 0.00000000           |       NaN            |\n",
       "| Patient              | 35-44                |  0                   | 0.00000000           |       NaN            |\n",
       "| Patient              | 45-54                |  0                   | 0.00000000           |       NaN            |\n",
       "| Patient              | 55-64                |  0                   | 0.00000000           |       NaN            |\n",
       "| Relative             | 25-34                |  0                   | 0.00000000           |       NaN            |\n",
       "| Relative             | 65 or older          |  0                   | 0.00000000           |       NaN            |\n",
       "| Relative             | Less than 18         |  0                   | 0.00000000           |       NaN            |\n",
       "\n"
      ],
      "text/plain": [
       "   profile              age          purchases purchaseRate AOV      \n",
       "1  Parent               35-44        22        0.09282700   100.24818\n",
       "2  Parent               45-54        17        0.11805556    97.82059\n",
       "3  Parent               25-34        15        0.08474576   101.74867\n",
       "4  Parent               55-64         9        0.08737864   113.59000\n",
       "5  Parent               18-24         6        0.05825243   106.16333\n",
       "6  Teacher              45-54         5        0.07936508   112.99600\n",
       "7  Health Professional  35-44         4        0.06451613   108.82250\n",
       "8  Teacher              35-44         4        0.10000000   100.14500\n",
       "9  Health Professional  45-54         3        0.04918033    79.52000\n",
       "10 Other                45-54         3        0.10000000    72.19333\n",
       "11 Relative             35-44         3        0.20000000    96.05667\n",
       "12 Relative             55-64         3        0.11538462   106.13667\n",
       "13 Health Professional  25-34         2        0.03333333   103.92500\n",
       "14 Other                18-24         2        0.09090909   124.04500\n",
       "15 Parent               Less than 18  2        0.16666667   107.41500\n",
       "16 Patient              18-24         2        0.14285714    92.16000\n",
       "17 Relative             45-54         2        0.08333333   121.07000\n",
       "18 Health Professional  55-64         1        0.01785714    62.50000\n",
       "19 Health Professional  65 or older   1        0.33333333   112.47000\n",
       "20 Other                25-34         1        0.04347826   108.34000\n",
       "21 Other                55-64         1        0.04166667    99.61000\n",
       "22 Patient              Less than 18  1        0.14285714   147.84000\n",
       "23 Relative             18-24         1        0.06250000    97.93000\n",
       "24 Teacher              18-24         1        0.03030303   110.78000\n",
       "25 Teacher              25-34         1        0.02439024    81.10000\n",
       "26 Teacher              55-64         1        0.02173913    71.02000\n",
       "27 Friend/family friend 18-24         0        0.00000000         NaN\n",
       "28 Friend/family friend 25-34         0        0.00000000         NaN\n",
       "29 Friend/family friend 35-44         0        0.00000000         NaN\n",
       "30 Friend/family friend 45-54         0        0.00000000         NaN\n",
       "31 Friend/family friend 55-64         0        0.00000000         NaN\n",
       "32 Health Professional  18-24         0        0.00000000         NaN\n",
       "33 Health Professional  Less than 18  0        0.00000000         NaN\n",
       "34 Other                35-44         0        0.00000000         NaN\n",
       "35 Other                65 or older   0        0.00000000         NaN\n",
       "36 Other                Less than 18  0        0.00000000         NaN\n",
       "37 Patient              25-34         0        0.00000000         NaN\n",
       "38 Patient              35-44         0        0.00000000         NaN\n",
       "39 Patient              45-54         0        0.00000000         NaN\n",
       "40 Patient              55-64         0        0.00000000         NaN\n",
       "41 Relative             25-34         0        0.00000000         NaN\n",
       "42 Relative             65 or older   0        0.00000000         NaN\n",
       "43 Relative             Less than 18  0        0.00000000         NaN"
      ]
     },
     "metadata": {},
     "output_type": "display_data"
    }
   ],
   "source": [
    "# Calculate purchase rate, average order value for each profile and age group\n",
    "\n",
    "df %>%\n",
    "group_by(profile,age)%>%\n",
    "summarize(purchases=sum(purchased),\n",
    "          purchaseRate=mean(purchased),\n",
    "          AOV=sum(purchaseAmount)/sum(purchased))%>%\n",
    "arrange(-purchases)"
   ]
  },
  {
   "cell_type": "code",
   "execution_count": 18,
   "metadata": {},
   "outputs": [
    {
     "name": "stderr",
     "output_type": "stream",
     "text": [
      "`summarise()` ungrouping output (override with `.groups` argument)\n"
     ]
    },
    {
     "data": {
      "text/html": [
       "<table>\n",
       "<thead><tr><th scope=col>Date</th><th scope=col>visits</th><th scope=col>pageviews</th><th scope=col>conversionRate</th><th scope=col>purchases</th><th scope=col>revenue</th><th scope=col>AOV</th></tr></thead>\n",
       "<tbody>\n",
       "\t<tr><td>2014-07-25</td><td> 4        </td><td> 28       </td><td>0.00000000</td><td>0         </td><td>  0.00    </td><td>0         </td></tr>\n",
       "\t<tr><td>2014-07-26</td><td>10        </td><td> 68       </td><td>0.00000000</td><td>0         </td><td>  0.00    </td><td>0         </td></tr>\n",
       "\t<tr><td>2014-07-27</td><td>10        </td><td> 72       </td><td>0.10000000</td><td>1         </td><td> 99.48    </td><td>1         </td></tr>\n",
       "\t<tr><td>2014-07-28</td><td>28        </td><td>205       </td><td>0.10714286</td><td>3         </td><td>340.41    </td><td>3         </td></tr>\n",
       "\t<tr><td>2014-07-29</td><td>66        </td><td>383       </td><td>0.06060606</td><td>4         </td><td>388.93    </td><td>4         </td></tr>\n",
       "\t<tr><td>2014-07-30</td><td>57        </td><td>360       </td><td>0.07017544</td><td>4         </td><td>361.47    </td><td>4         </td></tr>\n",
       "</tbody>\n",
       "</table>\n"
      ],
      "text/latex": [
       "\\begin{tabular}{r|lllllll}\n",
       " Date & visits & pageviews & conversionRate & purchases & revenue & AOV\\\\\n",
       "\\hline\n",
       "\t 2014-07-25 &  4         &  28        & 0.00000000 & 0          &   0.00     & 0         \\\\\n",
       "\t 2014-07-26 & 10         &  68        & 0.00000000 & 0          &   0.00     & 0         \\\\\n",
       "\t 2014-07-27 & 10         &  72        & 0.10000000 & 1          &  99.48     & 1         \\\\\n",
       "\t 2014-07-28 & 28         & 205        & 0.10714286 & 3          & 340.41     & 3         \\\\\n",
       "\t 2014-07-29 & 66         & 383        & 0.06060606 & 4          & 388.93     & 4         \\\\\n",
       "\t 2014-07-30 & 57         & 360        & 0.07017544 & 4          & 361.47     & 4         \\\\\n",
       "\\end{tabular}\n"
      ],
      "text/markdown": [
       "\n",
       "| Date | visits | pageviews | conversionRate | purchases | revenue | AOV |\n",
       "|---|---|---|---|---|---|---|\n",
       "| 2014-07-25 |  4         |  28        | 0.00000000 | 0          |   0.00     | 0          |\n",
       "| 2014-07-26 | 10         |  68        | 0.00000000 | 0          |   0.00     | 0          |\n",
       "| 2014-07-27 | 10         |  72        | 0.10000000 | 1          |  99.48     | 1          |\n",
       "| 2014-07-28 | 28         | 205        | 0.10714286 | 3          | 340.41     | 3          |\n",
       "| 2014-07-29 | 66         | 383        | 0.06060606 | 4          | 388.93     | 4          |\n",
       "| 2014-07-30 | 57         | 360        | 0.07017544 | 4          | 361.47     | 4          |\n",
       "\n"
      ],
      "text/plain": [
       "  Date       visits pageviews conversionRate purchases revenue AOV\n",
       "1 2014-07-25  4      28       0.00000000     0           0.00  0  \n",
       "2 2014-07-26 10      68       0.00000000     0           0.00  0  \n",
       "3 2014-07-27 10      72       0.10000000     1          99.48  1  \n",
       "4 2014-07-28 28     205       0.10714286     3         340.41  3  \n",
       "5 2014-07-29 66     383       0.06060606     4         388.93  4  \n",
       "6 2014-07-30 57     360       0.07017544     4         361.47  4  "
      ]
     },
     "metadata": {},
     "output_type": "display_data"
    }
   ],
   "source": [
    "# create new df for plotting by date\n",
    "\n",
    "df%>%\n",
    "group_by(Date=date(dateTime))%>%\n",
    "summarize(visits=n(),\n",
    "          pageviews=sum(pageviews),\n",
    "          conversionRate=mean(purchased),\n",
    "          purchases=sum(purchased),\n",
    "          revenue=sum(purchaseAmount),\n",
    "         AOV=sum(purchases))->df2\n",
    "\n",
    "df2%>%head"
   ]
  },
  {
   "cell_type": "code",
   "execution_count": 19,
   "metadata": {},
   "outputs": [
    {
     "data": {
      "image/png": "[encoded data removed]",
      "text/plain": [
       "plot without title"
      ]
     },
     "metadata": {},
     "output_type": "display_data"
    }
   ],
   "source": [
    "# plot visits by date\n",
    "\n",
    "df2 %>%\n",
    "    ggplot(aes(x=Date, y=visits))+\n",
    "    geom_line()"
   ]
  },
  {
   "cell_type": "code",
   "execution_count": 20,
   "metadata": {},
   "outputs": [
    {
     "name": "stderr",
     "output_type": "stream",
     "text": [
      "`geom_smooth()` using formula 'y ~ x'\n"
     ]
    },
    {
     "data": {
      "image/png": "[encoded data removed]",
      "text/plain": [
       "plot without title"
      ]
     },
     "metadata": {},
     "output_type": "display_data"
    }
   ],
   "source": [
    "# scatter plot of daily pageviews and revenue\n",
    "\n",
    "df2 %>%\n",
    "    ggplot(aes(x=pageviews,y=revenue))+\n",
    "    geom_point()+\n",
    "    geom_smooth(method=\"lm\",se=F)"
   ]
  }
 ],
 "metadata": {
  "kernelspec": {
   "display_name": "R",
   "language": "R",
   "name": "ir"
  },
  "language_info": {
   "codemirror_mode": "r",
   "file_extension": ".r",
   "mimetype": "text/x-r-source",
   "name": "R",
   "pygments_lexer": "r",
   "version": "3.6.1"
  }
 },
 "nbformat": 4,
 "nbformat_minor": 2
}
